{
 "cells": [
  {
   "cell_type": "code",
   "execution_count": 1,
   "id": "34458b3a",
   "metadata": {},
   "outputs": [
    {
     "name": "stderr",
     "output_type": "stream",
     "text": [
      "\u001b[34m\u001b[1mwandb\u001b[0m: Currently logged in as: \u001b[33mkylegoyette\u001b[0m (use `wandb login --relogin` to force relogin)\n"
     ]
    },
    {
     "data": {
      "text/html": [
       "\n",
       "                Tracking run with wandb version 0.12.2.dev1<br/>\n",
       "                Syncing run <strong style=\"color:#cdcd00\">scarlet-valley-5</strong> to <a href=\"https://wandb.ai\" target=\"_blank\">Weights & Biases</a> <a href=\"https://docs.wandb.com/integrations/jupyter.html\" target=\"_blank\">(Documentation)</a>.<br/>\n",
       "                Project page: <a href=\"https://wandb.ai/kylegoyette/nb_convert\" target=\"_blank\">https://wandb.ai/kylegoyette/nb_convert</a><br/>\n",
       "                Run page: <a href=\"https://wandb.ai/kylegoyette/nb_convert/runs/1twoas8f\" target=\"_blank\">https://wandb.ai/kylegoyette/nb_convert/runs/1twoas8f</a><br/>\n",
       "                Run data is saved locally in <code>/Users/kyle/cling/NewTest/wandb_launch_test/test/wandb/run-20210902_220137-1twoas8f</code><br/><br/>\n",
       "            "
      ],
      "text/plain": [
       "<IPython.core.display.HTML object>"
      ]
     },
     "metadata": {},
     "output_type": "display_data"
    }
   ],
   "source": [
    "import wandb\n",
    "import os\n",
    "os.environ[\"WANDB_BASE_URL\"] = \"https://api.wandb.ai\"\n",
    "wandb.login()\n",
    "wandb.init(project=\"nb_convert\", entity=\"kylegoyette\")\n",
    "wandb.log({\"logged\":1234})"
   ]
  },
  {
   "cell_type": "code",
   "execution_count": null,
   "id": "eb741e45",
   "metadata": {},
   "outputs": [],
   "source": [
    "wandb.log({\"second_cell\":1235})"
   ]
  },
  {
   "cell_type": "code",
   "execution_count": null,
   "id": "2394044c",
   "metadata": {},
   "outputs": [],
   "source": []
  }
 ],
 "metadata": {
  "kernelspec": {
   "display_name": "Python 3",
   "language": "python",
   "name": "python3"
  },
  "language_info": {
   "codemirror_mode": {
    "name": "ipython",
    "version": 3
   },
   "file_extension": ".py",
   "mimetype": "text/x-python",
   "name": "python",
   "nbconvert_exporter": "python",
   "pygments_lexer": "ipython3",
   "version": "3.7.9"
  }
 },
 "nbformat": 4,
 "nbformat_minor": 5
}
