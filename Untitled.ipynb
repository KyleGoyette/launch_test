{
 "cells": [
  {
   "cell_type": "code",
   "execution_count": 4,
   "id": "34458b3a",
   "metadata": {},
   "outputs": [
    {
     "data": {
      "text/html": [
       "\n",
       "                Tracking run with wandb version 0.12.2.dev1<br/>\n",
       "                Syncing run <strong style=\"color:#cdcd00\">vibrant-bird-2</strong> to <a href=\"https://app.wandb.test\" target=\"_blank\">Weights & Biases</a> <a href=\"https://docs.wandb.com/integrations/jupyter.html\" target=\"_blank\">(Documentation)</a>.<br/>\n",
       "                Project page: <a href=\"https://app.wandb.test/kylegoyette/nb_convert\" target=\"_blank\">https://app.wandb.test/kylegoyette/nb_convert</a><br/>\n",
       "                Run page: <a href=\"https://app.wandb.test/kylegoyette/nb_convert/runs/88kqknjk\" target=\"_blank\">https://app.wandb.test/kylegoyette/nb_convert/runs/88kqknjk</a><br/>\n",
       "                Run data is saved locally in <code>/Users/kyle/cling/NewTest/wandb_launch_test/wandb/run-20210902_214627-88kqknjk</code><br/><br/>\n",
       "            "
      ],
      "text/plain": [
       "<IPython.core.display.HTML object>"
      ]
     },
     "metadata": {},
     "output_type": "display_data"
    }
   ],
   "source": [
    "import wandb\n",
    "import os\n",
    "os.environ[\"WANDB_BASE_URL\"] = \"https://api.wandb.ai\"\n",
    "wandb.login()\n",
    "wandb.init(project=\"nb_convert\", entity=\"kylegoyette\")\n",
    "wandb.log({\"logged\":1234})"
   ]
  },
  {
   "cell_type": "code",
   "execution_count": null,
   "id": "eb741e45",
   "metadata": {},
   "outputs": [],
   "source": [
    "wandb.log({\"second_cell\":1235})"
   ]
  },
  {
   "cell_type": "code",
   "execution_count": null,
   "id": "2394044c",
   "metadata": {},
   "outputs": [],
   "source": []
  }
 ],
 "metadata": {
  "kernelspec": {
   "display_name": "Python 3",
   "language": "python",
   "name": "python3"
  },
  "language_info": {
   "codemirror_mode": {
    "name": "ipython",
    "version": 3
   },
   "file_extension": ".py",
   "mimetype": "text/x-python",
   "name": "python",
   "nbconvert_exporter": "python",
   "pygments_lexer": "ipython3",
   "version": "3.7.9"
  }
 },
 "nbformat": 4,
 "nbformat_minor": 5
}
